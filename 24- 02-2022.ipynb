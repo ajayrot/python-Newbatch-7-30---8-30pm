{
 "cells": [
  {
   "cell_type": "markdown",
   "metadata": {},
   "source": [
    "# Boolean Methods:\n",
    "- islower()\n",
    "- isupper()\n",
    "- istitle()\n",
    "- isalpha()\n",
    "- isnumeric()\n",
    "- isspace()"
   ]
  },
  {
   "cell_type": "code",
   "execution_count": 9,
   "metadata": {},
   "outputs": [
    {
     "name": "stdout",
     "output_type": "stream",
     "text": [
      "False\n",
      "False\n",
      "False\n",
      "False\n",
      "False\n",
      "True\n"
     ]
    }
   ],
   "source": [
    "s = \" \"\n",
    "print(s.islower())\n",
    "print(s.isupper())\n",
    "print(s.istitle())\n",
    "print(s.isalpha())\n",
    "print(s.isnumeric())\n",
    "print(s.isspace())"
   ]
  },
  {
   "cell_type": "markdown",
   "metadata": {},
   "source": [
    "# File Handling:\n",
    "- Function\n",
    "  - creating a file\n",
    "  - Reading a file\n",
    "  - Updating a File\n",
    "  - Deleting a file\n",
    "- Key Function for working with files in python is Open() Function\n",
    "- Open() Function takes 2 parameters Filename and mode\n",
    "- We have 3 modes\n",
    "  - **r** -- read a file\n",
    "  - **a** -- Append comething to file\n",
    "  - **w** -- Write something to file\n"
   ]
  },
  {
   "cell_type": "code",
   "execution_count": 21,
   "metadata": {},
   "outputs": [
    {
     "name": "stdout",
     "output_type": "stream",
     "text": [
      "Hello,Welcome to File HanDling\n",
      "This is line\n",
      "This is line\n",
      "This is line\n",
      "This is line\n",
      "This is line\n",
      "This is line\n",
      "This is line\n",
      "This is line\n"
     ]
    }
   ],
   "source": [
    "f = open(\"text.txt\",\"r\")\n",
    "print(f.read())"
   ]
  },
  {
   "cell_type": "code",
   "execution_count": 15,
   "metadata": {
    "scrolled": true
   },
   "outputs": [
    {
     "name": "stdout",
     "output_type": "stream",
     "text": [
      "Hello\n",
      ",Welc\n",
      "ome t\n"
     ]
    }
   ],
   "source": [
    "# Read First 5 charcaters\n",
    "f = open(\"text.txt\",\"r\")\n",
    "print(f.read(5))\n",
    "print(f.read(5))\n",
    "print(f.read(5))"
   ]
  },
  {
   "cell_type": "code",
   "execution_count": 20,
   "metadata": {},
   "outputs": [
    {
     "name": "stdout",
     "output_type": "stream",
     "text": [
      "Hello,Welcome to File HanDling\n",
      "\n",
      "This is line\n",
      "\n",
      "This is line\n",
      "\n",
      "This is line\n",
      "\n"
     ]
    }
   ],
   "source": [
    "#readline \n",
    "f = open(\"text.txt\",\"r\")\n",
    "print(f.readline())\n",
    "print(f.readline())\n",
    "print(f.readline())\n",
    "print(f.readline())"
   ]
  },
  {
   "cell_type": "code",
   "execution_count": 23,
   "metadata": {},
   "outputs": [
    {
     "name": "stdout",
     "output_type": "stream",
     "text": [
      "['Hello,Welcome to File HanDling\\n']\n"
     ]
    }
   ],
   "source": [
    "f = open(\"text.txt\",\"r\")\n",
    "print(f.readlines(30))"
   ]
  },
  {
   "cell_type": "code",
   "execution_count": 27,
   "metadata": {},
   "outputs": [
    {
     "name": "stdout",
     "output_type": "stream",
     "text": [
      "file is created\n"
     ]
    }
   ],
   "source": [
    "# function to create a file and write something to file\n",
    "def createfile(filename):\n",
    "    f = open(filename,\"w\")\n",
    "    for i in range(10):\n",
    "        f.write(\"hello World \\n\")\n",
    "    print(\"file is created\")\n",
    "createfile(\"file.txt\")\n",
    "        "
   ]
  },
  {
   "cell_type": "code",
   "execution_count": 28,
   "metadata": {},
   "outputs": [
    {
     "name": "stdout",
     "output_type": "stream",
     "text": [
      "File is created\n"
     ]
    }
   ],
   "source": [
    "# append a file\n",
    "def append(filename):\n",
    "    f = open(filename,\"a\")\n",
    "    for i in range(10):\n",
    "        f.write(\"This is line \\n\")\n",
    "    print(\"File is created\")\n",
    "append(\"file.txt\")"
   ]
  },
  {
   "cell_type": "code",
   "execution_count": 29,
   "metadata": {},
   "outputs": [
    {
     "name": "stdout",
     "output_type": "stream",
     "text": [
      "hello World \n",
      "hello World \n",
      "hello World \n",
      "hello World \n",
      "hello World \n",
      "hello World \n",
      "hello World \n",
      "hello World \n",
      "hello World \n",
      "hello World \n",
      "This is line \n",
      "This is line \n",
      "This is line \n",
      "This is line \n",
      "This is line \n",
      "This is line \n",
      "This is line \n",
      "This is line \n",
      "This is line \n",
      "This is line \n",
      "\n"
     ]
    }
   ],
   "source": [
    "def readfile(filename):\n",
    "    with open(filename,\"r\") as f:\n",
    "        if f.mode == \"r\":\n",
    "            x = f.read()\n",
    "            print(x)\n",
    "readfile(\"file.txt\")\n",
    "        "
   ]
  },
  {
   "cell_type": "code",
   "execution_count": null,
   "metadata": {},
   "outputs": [],
   "source": []
  }
 ],
 "metadata": {
  "kernelspec": {
   "display_name": "Python 3",
   "language": "python",
   "name": "python3"
  },
  "language_info": {
   "codemirror_mode": {
    "name": "ipython",
    "version": 3
   },
   "file_extension": ".py",
   "mimetype": "text/x-python",
   "name": "python",
   "nbconvert_exporter": "python",
   "pygments_lexer": "ipython3",
   "version": "3.8.5"
  }
 },
 "nbformat": 4,
 "nbformat_minor": 4
}
